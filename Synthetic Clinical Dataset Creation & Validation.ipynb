{
 "cells": [
  {
   "cell_type": "raw",
   "id": "eedce24d-e667-48be-94ed-62b477c03cd4",
   "metadata": {},
   "source": [
    "# Synthetic Clinical Dataset Generation, Validation, and Report\n",
    "# This cell will:\n",
    "# 1) Generate a medically plausible synthetic dataset for early-stage ovarian cancer and healthy controls\n",
    "# 2) Save CSV to /mnt/data/synthetic_clinical_dataset.csv\n",
    "# 3) Create validation plots in /mnt/data/plots/\n",
    "# 4) Save a concise PDF report at /mnt/data/Synthetic_Clinical_Report.pdf\n",
    "# 5) Display a preview of the dataset to you"
   ]
  },
  {
   "cell_type": "code",
   "execution_count": 158,
   "id": "066f2aee-a193-4950-8cf6-122a759fc0db",
   "metadata": {},
   "outputs": [],
   "source": [
    "import os\n",
    "import numpy as np\n",
    "import pandas as pd\n",
    "import matplotlib.pyplot as plt"
   ]
  },
  {
   "cell_type": "code",
   "execution_count": 160,
   "id": "4a1f5494-e1dd-4f8d-9631-9d74d7f15f5c",
   "metadata": {},
   "outputs": [],
   "source": [
    "rng = np.random.default_rng(42)"
   ]
  },
  {
   "cell_type": "code",
   "execution_count": 162,
   "id": "2ccdd400-8b0e-42b8-840d-7a04d9565032",
   "metadata": {},
   "outputs": [],
   "source": [
    "N = 800                          # number of patients (>=500)\n",
    "CANCER_RATE = 0.35               # >= 0.30\n",
    "BRCA_RATE_CANCER = 0.22          # conditional brca+ rate among cancer\n",
    "BRCA_RATE_HEALTHY = 0.10         # conditional brca+ rate among healthy\n",
    "ULTRASOUND_LOW_MAX = 0.4         # most healthy are below this (some overlap allowed)\n",
    "ULTRASOUND_HIGH_MIN = 0.6        # most cancer are above this (some overlap allowed)"
   ]
  },
  {
   "cell_type": "code",
   "execution_count": 164,
   "id": "2b60ed29-2978-4e06-8c41-1165bcd92060",
   "metadata": {},
   "outputs": [],
   "source": [
    "# Output paths\n",
    "data_path = \"C://Users//cherisma//Downloads\"\n",
    "plots_dir = os.path.join(data_path, \"plots\")\n",
    "os.makedirs(plots_dir, exist_ok=True)\n",
    "\n",
    "csv_path = os.path.join(data_path, \"synthetic_clinical_dataset.csv\")\n",
    "pdf_path = os.path.join(data_path, \"Synthetic_Clinical_Report.pdf\")"
   ]
  },
  {
   "cell_type": "code",
   "execution_count": 166,
   "id": "273aaf35-e18f-48f4-881f-eb66d33cd2a8",
   "metadata": {},
   "outputs": [],
   "source": [
    "def clipped_normal(mean, sd, size=1, min_val=None, max_val=None, rng=rng):\n",
    "    x = rng.normal(mean, sd, size)\n",
    "    if min_val is not None:\n",
    "        x = np.maximum(x, min_val)\n",
    "    if max_val is not None:\n",
    "        x = np.minimum(x, max_val)\n",
    "    return x"
   ]
  },
  {
   "cell_type": "code",
   "execution_count": 168,
   "id": "6ccdcafc-4092-44f2-ba53-9aca61161cc9",
   "metadata": {},
   "outputs": [],
   "source": [
    "def sigmoid(x):\n",
    "    return 1/(1+np.exp(-x))"
   ]
  },
  {
   "cell_type": "code",
   "execution_count": 170,
   "id": "21b744d6-b46d-438e-a6bc-cb90e7c7bb31",
   "metadata": {},
   "outputs": [],
   "source": [
    "diagnosis = (rng.random(N) < CANCER_RATE).astype(int) "
   ]
  },
  {
   "cell_type": "code",
   "execution_count": 172,
   "id": "a8352344-acda-4056-b678-e0d6e305a718",
   "metadata": {},
   "outputs": [],
   "source": [
    "# Age distributions\n",
    "# Early-stage ovarian cancer patients are often post-menopausal but BRCA+ skew younger.\n",
    "# We'll generate baseline ages by diagnosis, then adjust for BRCA later.\n",
    "age_healthy = clipped_normal(mean=53, sd=11, size=(diagnosis == 0).sum(), min_val=18, max_val=90)\n",
    "age_cancer  = clipped_normal(mean=56, sd=10, size=(diagnosis == 1).sum(), min_val=25, max_val=90)\n",
    "age = np.empty(N)\n",
    "age[diagnosis == 0] = age_healthy\n",
    "age[diagnosis == 1] = age_cancer\n",
    "age = age.round().astype(int)"
   ]
  },
  {
   "cell_type": "code",
   "execution_count": 174,
   "id": "d4d4f7b1-1d6d-495c-a142-c03cddd33e83",
   "metadata": {},
   "outputs": [],
   "source": [
    "# BRCA mutation status conditional on diagnosis\n",
    "brca = np.zeros(N, dtype=int)\n",
    "brca[diagnosis == 1] = (rng.random((diagnosis == 1).sum()) < BRCA_RATE_CANCER).astype(int)\n",
    "brca[diagnosis == 0] = (rng.random((diagnosis == 0).sum()) < BRCA_RATE_HEALTHY).astype(int)"
   ]
  },
  {
   "cell_type": "code",
   "execution_count": 176,
   "id": "ee60e9eb-7be7-4019-bd6e-ad0fb1e1880d",
   "metadata": {},
   "outputs": [],
   "source": [
    "# Apply age adjustment for BRCA+ (skew younger by ~6–8 years with bounds)\n",
    "brca_young_shift = rng.integers(5, 9, size=N)  # 5..8\n",
    "age = np.where(brca == 1, np.maximum(18, age - brca_young_shift), age)"
   ]
  },
  {
   "cell_type": "code",
   "execution_count": 178,
   "id": "e5476709-b46d-4e81-96c3-50df9d2f730e",
   "metadata": {},
   "outputs": [],
   "source": [
    "# Menopausal status driven largely by age but not strictly (prob rising near 50)\n",
    "# P(post) = sigmoid((age-49)/4) with mild BRCA adjustment (slightly lower if BRCA+)\n",
    "p_post = sigmoid((age - 49)/4.0) - brca*0.05\n",
    "p_post = np.clip(p_post, 0.05, 0.98)\n",
    "menopausal = (rng.random(N) < p_post).astype(int)"
   ]
  },
  {
   "cell_type": "code",
   "execution_count": 180,
   "id": "689a9352-2fc3-42b5-8d8b-dd6c2edbc293",
   "metadata": {},
   "outputs": [],
   "source": [
    "# Family history: more likely if BRCA+, and slightly more if cancer\n",
    "base_fh = 0.12 + 0.08*diagnosis + 0.35*brca  # range roughly 0.12 to 0.55\n",
    "base_fh = np.clip(base_fh, 0.05, 0.85)\n",
    "family_history = (rng.random(N) < base_fh).astype(int)\n"
   ]
  },
  {
   "cell_type": "code",
   "execution_count": 182,
   "id": "a5009859-fd05-4bfe-aa71-bc1ee817e876",
   "metadata": {},
   "outputs": [],
   "source": [
    "# BMI: mild shift higher in cancer; ensure plausible bounds\n",
    "bmi = clipped_normal(mean=26 + 1.0*diagnosis, sd=4.2, size=N, min_val=15, max_val=55)"
   ]
  },
  {
   "cell_type": "code",
   "execution_count": 184,
   "id": "7a6f71a6-d734-4a13-b012-95211cafdbb9",
   "metadata": {},
   "outputs": [],
   "source": [
    "# Ultrasound risk score: healthy skew low, cancer skew high with overlap\n",
    "ultra = np.empty(N)\n",
    "# Healthy: Beta(2.5, 6) scaled, tends to be low\n",
    "h_idx = np.where(diagnosis == 0)[0]\n",
    "c_idx = np.where(diagnosis == 1)[0]\n",
    "ultra[h_idx] = rng.beta(2.5, 6.0, size=len(h_idx))\n",
    "# Cancer: Beta(6, 2.5) scaled, tends to be high\n",
    "ultra[c_idx] = rng.beta(6.0, 2.5, size=len(c_idx))"
   ]
  },
  {
   "cell_type": "code",
   "execution_count": 186,
   "id": "34a6a777-83af-4abb-826f-878583b4c72f",
   "metadata": {},
   "outputs": [],
   "source": [
    "# Enforce soft rule-based thresholds with a bit of noise\n",
    "ultra = np.clip(ultra + rng.normal(0, 0.03, size=N), 0, 1)\n",
    "# Slight bump for larger tumors later\n",
    "\n",
    "# Tumor size (cm): near zero for healthy (some benign masses), >0 for cancer\n",
    "tumor_size = np.zeros(N)\n",
    "# Healthy small/near-zero masses: Half-normal around 0 with sigma=0.6, capped at 2.5cm\n",
    "tumor_size[h_idx] = np.clip(np.abs(rng.normal(0, 0.6, size=len(h_idx))), 0, 2.5)\n",
    "# Cancer: Normal around 3.8cm (early-stage), sd=1.2, min 0.5, max 10\n",
    "tumor_size[c_idx] = clipped_normal(mean=3.8, sd=1.2, size=len(c_idx), min_val=0.5, max_val=10)"
   ]
  },
  {
   "cell_type": "code",
   "execution_count": 188,
   "id": "9522998f-7e3c-4100-a0a0-b18afca02ab6",
   "metadata": {},
   "outputs": [],
   "source": [
    "# CA-125 (U/mL): strong dependence on diagnosis and tumor size\n",
    "# Healthy baseline: log-normal around median ~16, with ~10–15% > 35\n",
    "# Cancer baseline: log-normal around median ~220, add linear term with tumor size\n",
    "# We will build base levels then apply rule-based adjustments.\n",
    "# Healthy\n",
    "mu_h, sigma_h = np.log(16), 0.55   # lognormal params\n",
    "ca125 = np.empty(N)\n",
    "ca125[h_idx] = rng.lognormal(mean=mu_h, sigma=sigma_h, size=len(h_idx))\n",
    "# Cancer\n",
    "mu_c, sigma_c = np.log(220), 0.65  # lognormal params\n",
    "ca125[c_idx] = rng.lognormal(mean=mu_c, sigma=sigma_c, size=len(c_idx))"
   ]
  },
  {
   "cell_type": "code",
   "execution_count": 190,
   "id": "a45833ec-89b2-4fe6-b9bd-ff5cbc8ba4c2",
   "metadata": {},
   "outputs": [],
   "source": [
    "# Add correlation with tumor size (both groups but stronger in cancer)\n",
    "alpha_h, alpha_c = 8.0, 22.0\n",
    "ca125[h_idx] += alpha_h * tumor_size[h_idx]\n",
    "ca125[c_idx] += alpha_c * tumor_size[c_idx]"
   ]
  },
  {
   "cell_type": "code",
   "execution_count": 192,
   "id": "cbf8b0ab-4afe-4621-b099-e02400f06ed8",
   "metadata": {},
   "outputs": [],
   "source": [
    "# Rule-based tweaks:\n",
    "# - Ensure ~80% of cancer cases have CA-125 > 200 (not all, because early-stage may be lower)\n",
    "cancer_mask = (diagnosis == 1)\n",
    "current_prop_high = (ca125[cancer_mask] > 200).mean()\n",
    "if current_prop_high < 0.80:\n",
    "    # Scale up cancer values slightly to meet the target\n",
    "    scale = 200 / np.quantile(ca125[cancer_mask], 0.2)  # lift lower quintile\n",
    "    ca125[cancer_mask] *= np.clip(scale, 1.0, 1.5)"
   ]
  },
  {
   "cell_type": "code",
   "execution_count": 194,
   "id": "f18e57ab-5de6-40a0-8493-20d8f0331f52",
   "metadata": {},
   "outputs": [],
   "source": [
    "# - Keep healthy mostly below 35 but allow some outliers (~10–15%)\n",
    "healthy_mask = (diagnosis == 0)\n",
    "prop_h_gt35 = (ca125[healthy_mask] > 35).mean()\n",
    "target_h_gt35 = 0.12\n",
    "if prop_h_gt35 > target_h_gt35 + 0.03:\n",
    "    # Compress upper tail for healthy\n",
    "    hi = ca125[healthy_mask] > 35\n",
    "    ca125[healthy_mask][hi] = 35 + (ca125[healthy_mask][hi] - 35)*0.6"
   ]
  },
  {
   "cell_type": "code",
   "execution_count": 196,
   "id": "4ffa0a1f-5d29-4f0a-a441-0f8bda3cf6e6",
   "metadata": {},
   "outputs": [],
   "source": [
    "# Ultrasound fine-tuning based on tumor size\n",
    "ultra += 0.02 * (tumor_size / (tumor_size.max() if tumor_size.max() > 0 else 1))\n",
    "ultra = np.clip(ultra, 0, 1)"
   ]
  },
  {
   "cell_type": "code",
   "execution_count": 198,
   "id": "1403dce1-77e1-4b4b-9cfe-bd855152cf4b",
   "metadata": {},
   "outputs": [],
   "source": [
    "# Symptom score (0–5): higher in cancer; BRCA+ slightly higher vigilance -> small shift\n",
    "symptom_score = np.zeros(N, dtype=int)\n",
    "# Healthy: majority 0–2\n",
    "symp_probs_h = np.array([0.35, 0.33, 0.20, 0.07, 0.04, 0.01])\n",
    "# Cancer: shifted to 2–5\n",
    "symp_probs_c = np.array([0.06, 0.12, 0.26, 0.28, 0.18, 0.10])\n",
    "symp_bins = np.arange(6)\n",
    "symptom_score[h_idx] = rng.choice(symp_bins, size=len(h_idx), p=symp_probs_h)\n",
    "symptom_score[c_idx] = rng.choice(symp_bins, size=len(c_idx), p=symp_probs_c)\n",
    "# BRCA+ small upward bump (cap at 5)\n",
    "symptom_score = np.minimum(5, symptom_score + (rng.random(N) < (0.06*brca)).astype(int))"
   ]
  },
  {
   "cell_type": "code",
   "execution_count": 200,
   "id": "c63af567-7e0e-4e6a-9780-ff335ec18daf",
   "metadata": {},
   "outputs": [],
   "source": [
    "# Assemble DataFrame\n",
    "df = pd.DataFrame({\n",
    "    \"age_years\": age,\n",
    "    \"bmi\": np.round(bmi, 1),\n",
    "    \"ca125_u_ml\": np.round(ca125, 1),\n",
    "    \"tumor_size_cm\": np.round(tumor_size, 2),\n",
    "    \"brca_positive\": brca,\n",
    "    \"menopausal_post\": menopausal,\n",
    "    \"ultrasound_risk\": np.round(ultra, 3),\n",
    "    \"family_history\": family_history,\n",
    "    \"symptom_score_0_5\": symptom_score,\n",
    "    \"diagnosis_cancer\": diagnosis\n",
    "})\n"
   ]
  },
  {
   "cell_type": "code",
   "execution_count": 202,
   "id": "188acf38-f2a4-4f60-a6ec-b3ca73953b22",
   "metadata": {},
   "outputs": [],
   "source": [
    "# Edge-case sanity: no negatives\n",
    "for col in [\"bmi\", \"ca125_u_ml\", \"tumor_size_cm\", \"ultrasound_risk\"]:\n",
    "    df[col] = df[col].clip(lower=0)"
   ]
  },
  {
   "cell_type": "code",
   "execution_count": 204,
   "id": "e4eadcad-b65d-47fc-9309-21065830a8e3",
   "metadata": {},
   "outputs": [],
   "source": [
    "# Basic summary\n",
    "overall_brca_prev = df[\"brca_positive\"].mean()\n",
    "cancer_prev = df[\"diagnosis_cancer\"].mean()\n",
    "healthy_prop_ca125_lt35 = (df.loc[df.diagnosis_cancer == 0, \"ca125_u_ml\"] < 35).mean()\n",
    "cancer_prop_ca125_gt200 = (df.loc[df.diagnosis_cancer == 1, \"ca125_u_ml\"] > 200).mean()\n",
    "\n",
    "# Save CSV\n",
    "df.to_csv(csv_path, index=False)"
   ]
  },
  {
   "cell_type": "raw",
   "id": "deecfcc6-c747-4841-be0d-dc106f965eb2",
   "metadata": {},
   "source": [
    "#After the above code the dataset is generated in the specified path given by the user."
   ]
  },
  {
   "cell_type": "code",
   "execution_count": 206,
   "id": "65a4ffd8-946c-4fd2-82ee-da16b5e148ca",
   "metadata": {},
   "outputs": [],
   "source": [
    "# Plots: distributions and correlations\n",
    "# 1) Histogram for CA-125 by diagnosis\n",
    "plt.figure()\n",
    "bins = np.linspace(0, min(800, df[\"ca125_u_ml\"].quantile(0.99)), 50)\n",
    "plt.hist(df.loc[df.diagnosis_cancer == 0, \"ca125_u_ml\"], bins=bins, alpha=0.6, label=\"Healthy\")\n",
    "plt.hist(df.loc[df.diagnosis_cancer == 1, \"ca125_u_ml\"], bins=bins, alpha=0.6, label=\"Cancer\")\n",
    "plt.xlabel(\"CA-125 (U/mL)\")\n",
    "plt.ylabel(\"Count\")\n",
    "plt.title(\"CA-125 Distribution by Diagnosis\")\n",
    "plt.legend()\n",
    "plt.tight_layout()\n",
    "plt.savefig(os.path.join(plots_dir, \"ca125_by_diagnosis.png\"))\n",
    "plt.close()"
   ]
  },
  {
   "cell_type": "code",
   "execution_count": 208,
   "id": "fc8a2a5b-9e61-4167-93ac-ba96245fa487",
   "metadata": {},
   "outputs": [],
   "source": [
    "# 2) Tumor size histogram by diagnosis\n",
    "plt.figure()\n",
    "bins_ts = np.linspace(0, max(10, df[\"tumor_size_cm\"].max()), 50)\n",
    "plt.hist(df.loc[df.diagnosis_cancer == 0, \"tumor_size_cm\"], bins=bins_ts, alpha=0.6, label=\"Healthy\")\n",
    "plt.hist(df.loc[df.diagnosis_cancer == 1, \"tumor_size_cm\"], bins=bins_ts, alpha=0.6, label=\"Cancer\")\n",
    "plt.xlabel(\"Tumor size (cm)\")\n",
    "plt.ylabel(\"Count\")\n",
    "plt.title(\"Tumor Size Distribution by Diagnosis\")\n",
    "plt.legend()\n",
    "plt.tight_layout()\n",
    "plt.savefig(os.path.join(plots_dir, \"tumor_size_by_diagnosis.png\"))\n",
    "plt.close()\n"
   ]
  },
  {
   "cell_type": "code",
   "execution_count": 209,
   "id": "51022e16-2f34-40c2-913f-796e76501ea1",
   "metadata": {},
   "outputs": [],
   "source": [
    "# 3) Ultrasound risk score by diagnosis\n",
    "plt.figure()\n",
    "bins_u = np.linspace(0, 1, 40)\n",
    "plt.hist(df.loc[df.diagnosis_cancer == 0, \"ultrasound_risk\"], bins=bins_u, alpha=0.6, label=\"Healthy\")\n",
    "plt.hist(df.loc[df.diagnosis_cancer == 1, \"ultrasound_risk\"], bins=bins_u, alpha=0.6, label=\"Cancer\")\n",
    "plt.xlabel(\"Ultrasound risk score (0–1)\")\n",
    "plt.ylabel(\"Count\")\n",
    "plt.title(\"Ultrasound Risk Distribution by Diagnosis\")\n",
    "plt.legend()\n",
    "plt.tight_layout()\n",
    "plt.savefig(os.path.join(plots_dir, \"ultrasound_by_diagnosis.png\"))\n",
    "plt.close()"
   ]
  },
  {
   "cell_type": "code",
   "execution_count": 211,
   "id": "58bfc721-22dc-45d9-a4ab-308ac9921b5d",
   "metadata": {},
   "outputs": [],
   "source": [
    "# 4) Correlation matrix (numeric columns)\n",
    "numeric_cols = [\"age_years\",\"bmi\",\"ca125_u_ml\",\"tumor_size_cm\",\"brca_positive\",\n",
    "                \"menopausal_post\",\"ultrasound_risk\",\"family_history\",\n",
    "                \"symptom_score_0_5\",\"diagnosis_cancer\"]\n",
    "corr = df[numeric_cols].corr()\n",
    "\n",
    "plt.figure()\n",
    "im = plt.imshow(corr, aspect='auto')\n",
    "plt.colorbar(im, fraction=0.046, pad=0.04)\n",
    "plt.xticks(range(len(numeric_cols)), numeric_cols, rotation=90)\n",
    "plt.yticks(range(len(numeric_cols)), numeric_cols)\n",
    "plt.title(\"Correlation Matrix\")\n",
    "plt.tight_layout()\n",
    "plt.savefig(os.path.join(plots_dir, \"correlation_matrix.png\"))\n",
    "plt.close()"
   ]
  },
  {
   "cell_type": "code",
   "execution_count": 213,
   "id": "526dbcc5-d140-4818-8a18-64970fe9172a",
   "metadata": {},
   "outputs": [],
   "source": [
    "# 5) Scatter: Tumor size vs CA-125\n",
    "plt.figure()\n",
    "plt.scatter(df[\"tumor_size_cm\"], df[\"ca125_u_ml\"], s=8, alpha=0.6)\n",
    "plt.xlabel(\"Tumor size (cm)\")\n",
    "plt.ylabel(\"CA-125 (U/mL)\")\n",
    "plt.title(\"Tumor Size vs CA-125\")\n",
    "plt.tight_layout()\n",
    "plt.savefig(os.path.join(plots_dir, \"tumor_vs_ca125.png\"))\n",
    "plt.close()"
   ]
  },
  {
   "cell_type": "code",
   "execution_count": 216,
   "id": "acc4850d-8807-47b3-8ebb-62eb3f4ad320",
   "metadata": {},
   "outputs": [],
   "source": [
    "# -----------------------------\n",
    "# 3) Generate concise PDF report\n",
    "# -----------------------------\n",
    "from reportlab.lib.pagesizes import A4\n",
    "from reportlab.pdfgen import canvas\n",
    "from reportlab.lib.units import cm"
   ]
  },
  {
   "cell_type": "code",
   "execution_count": 218,
   "id": "a0aa1413-b2c1-4a7b-8553-880a45343925",
   "metadata": {},
   "outputs": [],
   "source": [
    "def add_wrapped_text(c, text, x, y, max_width, leading=12):\n",
    "    # Simple text wrap for reportlab\n",
    "    from textwrap import wrap\n",
    "    lines = []\n",
    "    for paragraph in text.split(\"\\n\"):\n",
    "        # Estimated characters per line; conservative scaling by font size\n",
    "        max_chars = int(max_width / 5.2)  # heuristic\n",
    "        for line in wrap(paragraph, width=max_chars):\n",
    "            lines.append(line)\n",
    "        lines.append(\"\")  # paragraph break\n",
    "    for line in lines:\n",
    "        c.drawString(x, y, line)\n",
    "        y -= leading\n",
    "    return y"
   ]
  },
  {
   "cell_type": "code",
   "execution_count": 220,
   "id": "3edb9026-cc24-466d-aa7a-5ee02de231b1",
   "metadata": {},
   "outputs": [],
   "source": [
    "c = canvas.Canvas(pdf_path, pagesize=A4)\n",
    "width, height = A4\n",
    "margin = 2*cm\n",
    "cursor_y = height - margin"
   ]
  },
  {
   "cell_type": "code",
   "execution_count": 222,
   "id": "8aa8d641-fd55-4377-9ec8-3731648bc489",
   "metadata": {},
   "outputs": [],
   "source": [
    "c.setFont(\"Helvetica-Bold\", 14)\n",
    "c.drawString(margin, cursor_y, \"Synthetic Clinical Dataset Report — Early-stage Ovarian Cancer\")\n",
    "cursor_y -= 18"
   ]
  },
  {
   "cell_type": "code",
   "execution_count": 224,
   "id": "e2353e6b-364f-4191-b105-4b4991b84437",
   "metadata": {},
   "outputs": [],
   "source": [
    "c.setFont(\"Helvetica\", 10)\n",
    "intro = (\n",
    "    f\"Records: {N}   |   Cancer prevalence: {cancer_prev:.1%}   |   BRCA+ overall: {overall_brca_prev:.1%}\\n\"\n",
    "    f\"Healthy CA-125 < 35 U/mL: {healthy_prop_ca125_lt35:.1%}   |   Cancer CA-125 > 200 U/mL: {cancer_prop_ca125_gt200:.1%}\\n\\n\"\n",
    "    \"This synthetic dataset was generated using mixed statistical and rule-based methods to reflect medically plausible \"\n",
    "    \"patterns (e.g., higher CA-125 and ultrasound risk in cancer, BRCA-positive skewing to younger ages, and correlation \"\n",
    "    \"between tumor size and CA-125). Values are clipped to remove impossible negatives and distributions are tuned to create \"\n",
    "    \"overlap reflective of real-world screening scenarios.\"\n",
    ")\n",
    "cursor_y = add_wrapped_text(c, intro, margin, cursor_y, width-2*margin, leading=12) - 6"
   ]
  },
  {
   "cell_type": "code",
   "execution_count": 226,
   "id": "1c30565a-0e7c-452a-b314-3b7402a6e4fc",
   "metadata": {},
   "outputs": [],
   "source": [
    "# Feature rationale summary\n",
    "c.setFont(\"Helvetica-Bold\", 12)\n",
    "c.drawString(margin, cursor_y, \"Feature Rationale & Generation Logic (Summary)\")\n",
    "cursor_y -= 14\n",
    "c.setFont(\"Helvetica\", 10)\n",
    "logic = (\n",
    "    \"- Age: Normal by diagnosis; BRCA+ shifted ~5–8 years younger, then rounded to integer.\\n\"\n",
    "    \"- Menopausal status: Logistic function of age; slightly lower probability if BRCA+.\\n\"\n",
    "    \"- BRCA status: 22% among cancer, 10% among healthy (overall within 10–20%).\\n\"\n",
    "    \"- Tumor size: Near-zero half-normal for healthy; normal(3.8,1.2) cm for cancer (0.5–10 cm).\\n\"\n",
    "    \"- CA-125: Log-normal by diagnosis plus linear term with tumor size; tuned to get ~80% of cancer >200 U/mL \"\n",
    "    \"and ~85–90% of healthy <35 U/mL.\\n\"\n",
    "    \"- Ultrasound risk: Beta-distributions; increased slightly with tumor size.\\n\"\n",
    "    \"- Family history: Higher with BRCA+ and cancer.\\n\"\n",
    "    \"- BMI: Slightly higher mean in cancer.\\n\"\n",
    "    \"- Symptom score (0–5): Shifted higher for cancer; small BRCA+ bump.\"\n",
    ")\n",
    "cursor_y = add_wrapped_text(c, logic, margin, cursor_y, width-2*margin, leading=12) - 6"
   ]
  },
  {
   "cell_type": "code",
   "execution_count": 228,
   "id": "d237b6fe-5b7e-4048-90b0-bc88d640d096",
   "metadata": {},
   "outputs": [],
   "source": [
    "# Insert small validation table-like text\n",
    "c.setFont(\"Helvetica-Bold\", 12)\n",
    "c.drawString(margin, cursor_y, \"Key Validation Checks\")\n",
    "cursor_y -= 14\n",
    "c.setFont(\"Helvetica\", 10)\n",
    "val = (\n",
    "    f\"* No negative values for CA-125, tumor size, BMI, or risk score.\\n\"\n",
    "    f\"* CA-125 vs Tumor size correlation (Pearson): {corr.loc['ca125_u_ml','tumor_size_cm']:.2f}\\n\"\n",
    "    f\"* Ultrasound risk higher in cancer median: \"\n",
    "    f\"{df.loc[df.diagnosis_cancer==1,'ultrasound_risk'].median():.2f} vs healthy \"\n",
    "    f\"{df.loc[df.diagnosis_cancer==0,'ultrasound_risk'].median():.2f}\\n\"\n",
    "    f\"* Age median (BRCA+ vs BRCA-): \"\n",
    "    f\"{df.loc[df.brca_positive==1,'age_years'].median()} vs {df.loc[df.brca_positive==0,'age_years'].median()}\"\n",
    ")\n",
    "cursor_y = add_wrapped_text(c, val, margin, cursor_y, width-2*margin, leading=12) - 6"
   ]
  },
  {
   "cell_type": "code",
   "execution_count": 230,
   "id": "04ff14fe-3704-480d-81dc-d679cf968c37",
   "metadata": {},
   "outputs": [],
   "source": [
    "# Attempt to place one plot (correlation matrix) as an image if space allows\n",
    "corr_img = os.path.join(plots_dir, \"correlation_matrix.png\")\n",
    "if os.path.exists(corr_img):\n",
    "    img_width = width - 2*margin\n",
    "    img_height = img_width * 0.75\n",
    "    if cursor_y - img_height > margin:\n",
    "        c.drawImage(corr_img, margin, cursor_y - img_height, width=img_width, height=img_height, preserveAspectRatio=True, mask='auto')\n",
    "        cursor_y -= (img_height + 6)\n",
    "    else:\n",
    "        c.showPage()\n",
    "        cursor_y = height - margin\n",
    "        c.drawImage(corr_img, margin, cursor_y - img_height, width=img_width, height=img_height, preserveAspectRatio=True, mask='auto')\n",
    "        cursor_y -= (img_height + 6)"
   ]
  },
  {
   "cell_type": "code",
   "execution_count": 232,
   "id": "e6989215-957c-44d5-98fd-7cf0d91d80df",
   "metadata": {},
   "outputs": [],
   "source": [
    "# Close out\n",
    "c.setFont(\"Helvetica\", 9)\n",
    "if cursor_y < margin + 20:\n",
    "    c.showPage()\n",
    "    cursor_y = height - margin\n",
    "c.drawString(margin, cursor_y, \"Note: Ranges are clinically inspired but synthetic and for ML experimentation only.\")\n",
    "c.save()"
   ]
  },
  {
   "cell_type": "code",
   "execution_count": 234,
   "id": "891f9946-e530-4d56-966c-810ca20b8470",
   "metadata": {},
   "outputs": [
    {
     "data": {
      "text/plain": [
       "{'csv_path': 'C://Users//cherisma//Downloads\\\\synthetic_clinical_dataset.csv',\n",
       " 'pdf_path': 'C://Users//cherisma//Downloads\\\\Synthetic_Clinical_Report.pdf',\n",
       " 'plots_dir': 'C://Users//cherisma//Downloads\\\\plots',\n",
       " 'n_records': 800,\n",
       " 'cancer_rate': 0.36125,\n",
       " 'overall_brca_rate': 0.14875,\n",
       " 'healthy_prop_ca125_lt35': 0.898238747553816,\n",
       " 'cancer_prop_ca125_gt200': 0.8442906574394463}"
      ]
     },
     "execution_count": 234,
     "metadata": {},
     "output_type": "execute_result"
    }
   ],
   "source": [
    "# Show a preview of the data to the user as a table\n",
    "df.head(25)\n",
    "\n",
    "{\n",
    "    \"csv_path\": csv_path,\n",
    "    \"pdf_path\": pdf_path,\n",
    "    \"plots_dir\": plots_dir,\n",
    "    \"n_records\": len(df),\n",
    "    \"cancer_rate\": float(cancer_prev),\n",
    "    \"overall_brca_rate\": float(overall_brca_prev),\n",
    "    \"healthy_prop_ca125_lt35\": float(healthy_prop_ca125_lt35),\n",
    "    \"cancer_prop_ca125_gt200\": float(cancer_prop_ca125_gt200)\n",
    "}"
   ]
  },
  {
   "cell_type": "code",
   "execution_count": null,
   "id": "2c6ec5ff-1bbb-4a30-85ff-4412ce1e8244",
   "metadata": {},
   "outputs": [],
   "source": []
  },
  {
   "cell_type": "code",
   "execution_count": null,
   "id": "58c99241-544e-43da-8481-d0fb00a9fc9f",
   "metadata": {},
   "outputs": [],
   "source": []
  }
 ],
 "metadata": {
  "kernelspec": {
   "display_name": "Python [conda env:base] *",
   "language": "python",
   "name": "conda-base-py"
  },
  "language_info": {
   "codemirror_mode": {
    "name": "ipython",
    "version": 3
   },
   "file_extension": ".py",
   "mimetype": "text/x-python",
   "name": "python",
   "nbconvert_exporter": "python",
   "pygments_lexer": "ipython3",
   "version": "3.12.7"
  }
 },
 "nbformat": 4,
 "nbformat_minor": 5
}
